{
 "cells": [
  {
   "cell_type": "code",
   "execution_count": null,
   "metadata": {},
   "outputs": [],
   "source": [
    "if (!requireNamespace(\"BiocManager\", quietly = TRUE))\n",
    "    install.packages(\"BiocManager\")\n",
    "\n",
    "BiocManager::install(\"pcaExplorer\")\n",
    "         install.packages(\"devtools\")\n",
    "        library(devtools)\n",
    "        devtools::install_github(\"cmap/cmapR\")\n",
    "                data=read.gct(\"C:/Users/DELL/Downloads/PAAD.gct\")\n",
    "                library(phantasus)\n",
    "servePhantasus()\n",
    "\n",
    "# Ans1a The general behavior of the samples as can be observed from the plots and charts that most of them are primary solid tumors \n",
    "# Ans1b As seen in the PCA plot the neuroendocrine tumors are not clearly separable from adenocarcinoma tumors unless the data of former is removed since few samples also had the presence of both the tumors partially(60% and 40%), moreover merely by looking at the heat map one cannot point out the sample having adenocarcinoma or neuroendocrine tumor\n",
    "\n",
    "install.packages(\"svglite\")\n",
    "library(rsvg)\n",
    "rsvg_svg(\"C:/Users/DELL/Downloads/pca-plot(1).svg\")\n",
    "rsvg_svg(\"C:/Users/DELL/Downloads/pca-plot(2).svg\")\n",
    "                install.packages(\"reticulate\")\n",
    "                library(reticulate)\n",
    "                py_run_string(\"import numpy as np\")\n",
    "                py_run_string(\"col_meta_data.head()\")\n",
    "                py_run_string(\"count_by_column > 0].sort_values(ascending=False)\n",
    "print(f\"Total {len(missing_val_count_by_col)} columns have missing value, and\",\n",
    "      f\"Total {col_meta_data.isnull().sum().sum()} missing values in dataset\")\")\n",
    "                              omit((data=missing_val_count_by_col, y= missing_val_count_by_col ))\n",
    "read.delim(file.choose(\"C:/Users/DELL/Downloads/type1_IFN.txt\"))\n",
    "value=system.file(\"C:/Users/DELL/Downloads/type1_IFN.docx\", package = \"textreadr\")\n",
    "print(value)\n",
    "if (!requireNamespace(\"BiocManager\", quietly = TRUE))\n",
    "    install.packages(\"BiocManager\")\n",
    "\n",
    "BiocManager::install(\"GSVA\")\n",
    "library(ggplot2)\n",
    "library(gplots)\n",
    "fpkm=texpr(data,meas = \"FPKM\")\n",
    "fpkm=log2(fpkm+1)\n",
    "boxplot(fpkm,col = as.numeric(PAAD$histology_type_other),las=2,ylab= 'log2(FPKM+1)')\n",
    "\n",
    "# Ans2 Yes, the presence of the IFN signature can be characterized by assigning positive and negative values(1 if present and 0 if absent) denoting presence or absense of the same in the samples by importing the two files containing the list of these genes based on which a distribution curve or chart can be plotted estimating the score amongst these samples                       "
   ]
  },
  {
   "cell_type": "code",
   "execution_count": null,
   "metadata": {},
   "outputs": [],
   "source": [
    "plot1:https://drive.google.com/file/d/1PoX_YgoNxmVIvLBob1rlSTghkEBJBQkH/view?usp=sharing\n",
    "plot2:https://drive.google.com/file/d/1QZ2PdgKn8bTgV5LRGWFJC87-anJtnDnp/view?usp=sharing    "
   ]
  }
 ],
 "metadata": {
  "kernelspec": {
   "display_name": "Python 3",
   "language": "python",
   "name": "python3"
  },
  "language_info": {
   "codemirror_mode": {
    "name": "ipython",
    "version": 3
   },
   "file_extension": ".py",
   "mimetype": "text/x-python",
   "name": "python",
   "nbconvert_exporter": "python",
   "pygments_lexer": "ipython3",
   "version": "3.7.3"
  }
 },
 "nbformat": 4,
 "nbformat_minor": 2
}
